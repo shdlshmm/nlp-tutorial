{
 "cells": [
  {
   "cell_type": "code",
   "execution_count": 1,
   "metadata": {},
   "outputs": [],
   "source": [
    "import torch\n",
    "import numpy as np\n",
    "import torch.nn as nn\n",
    "import torch.optim as optim\n",
    "import torch.utils.data as Data"
   ]
  },
  {
   "cell_type": "code",
   "execution_count": 2,
   "metadata": {},
   "outputs": [],
   "source": [
    "sentence = (\n",
    "    'GitHub Actions makes it easy to automate all your software workflows '\n",
    "    'from continuous integration and delivery to issue triage and more'\n",
    ")\n",
    "\n",
    "word2idx = {w: i for i, w in enumerate(list(set(sentence.split())))}\n",
    "idx2word = {i: w for i, w in enumerate(list(set(sentence.split())))}\n",
    "n_class = len(word2idx) # classification problem\n",
    "max_len = len(sentence.split())\n",
    "n_hidden = 5\n"
   ]
  },
  {
   "cell_type": "code",
   "execution_count": 3,
   "metadata": {},
   "outputs": [
    {
     "name": "stdout",
     "output_type": "stream",
     "text": [
      "torch.Size([20, 21, 19])\n"
     ]
    }
   ],
   "source": [
    "def make_data(sentence):\n",
    "    input_batch = []\n",
    "    target_batch = []\n",
    "\n",
    "    words = sentence.split() # ['Github', 'Actions', 'makes', ...]\n",
    "    for i in range(max_len - 1): # i = 2\n",
    "        input = [word2idx[n] for n in words[:(i + 1)]] # input = [18 7 3]\n",
    "        input = input + [0] * (max_len - len(input)) # input = [18 7 3 0 'it', ..., 0]\n",
    "        target = word2idx[words[i + 1]] # target = [0]\n",
    "        input_batch.append(np.eye(n_class)[input])\n",
    "        target_batch.append(target)\n",
    "\n",
    "    return torch.Tensor(input_batch), torch.LongTensor(target_batch)\n",
    "\n",
    "# input_batch: [max_len - 1, max_len, n_class]\n",
    "input_batch, target_batch = make_data(sentence)\n",
    "print(input_batch.shape)\n",
    "dataset = Data.TensorDataset(input_batch, target_batch)\n",
    "loader = Data.DataLoader(dataset, 16, True)"
   ]
  },
  {
   "cell_type": "code",
   "execution_count": 4,
   "metadata": {},
   "outputs": [],
   "source": [
    "class BiLSTM(nn.Module):\n",
    "    def __init__(self):\n",
    "        super(BiLSTM, self).__init__()\n",
    "        self.lstm = nn.LSTM(input_size=n_class, hidden_size=n_hidden,batch_first=True, bidirectional=True)\n",
    "        # fc\n",
    "        self.fc = nn.Linear(n_hidden * 2, n_class)\n",
    "\n",
    "    def forward(self, X):\n",
    "        # X: [batch_size, max_len, n_class]\n",
    "        batch_size = X.shape[0]\n",
    "        hidden_state = torch.randn(1*2, batch_size, n_hidden).cuda()   # [num_layers(=1) * num_directions(=2), batch_size, n_hidden]\n",
    "        cell_state = torch.randn(1*2, batch_size, n_hidden).cuda()     # [num_layers(=1) * num_directions(=2), batch_size, n_hidden]\n",
    "        outputs, (_, _) = self.lstm(X, (hidden_state, cell_state)) # [batch_size, max_len, n_hidden * 2]\n",
    "        outputs = outputs[:,-1,:]  # [batch_size, n_hidden * 2]\n",
    "        model = self.fc(outputs)  # model : [batch_size, n_class]\n",
    "        return model\n",
    "\n",
    "model = BiLSTM().cuda()\n",
    "criterion = nn.CrossEntropyLoss()\n",
    "optimizer = optim.Adam(model.parameters(), lr=0.001)\n"
   ]
  },
  {
   "cell_type": "code",
   "execution_count": 5,
   "metadata": {},
   "outputs": [
    {
     "name": "stdout",
     "output_type": "stream",
     "text": [
      "Epoch: 1000 cost = 1.827255\n",
      "Epoch: 1000 cost = 2.262238\n",
      "Epoch: 2000 cost = 1.392085\n",
      "Epoch: 2000 cost = 1.468587\n",
      "Epoch: 3000 cost = 0.989689\n",
      "Epoch: 3000 cost = 1.386539\n",
      "Epoch: 4000 cost = 0.703100\n",
      "Epoch: 4000 cost = 0.588614\n",
      "Epoch: 5000 cost = 0.457731\n",
      "Epoch: 5000 cost = 0.449804\n",
      "Epoch: 6000 cost = 0.286784\n",
      "Epoch: 6000 cost = 0.528751\n",
      "Epoch: 7000 cost = 0.282234\n",
      "Epoch: 7000 cost = 0.224325\n",
      "Epoch: 8000 cost = 0.254053\n",
      "Epoch: 8000 cost = 0.158323\n",
      "Epoch: 9000 cost = 0.213200\n",
      "Epoch: 9000 cost = 0.190479\n",
      "Epoch: 10000 cost = 0.175502\n",
      "Epoch: 10000 cost = 0.204196\n"
     ]
    }
   ],
   "source": [
    "# Training\n",
    "for epoch in range(10000):\n",
    "    for x, y in loader:\n",
    "        pred = model(x.cuda())\n",
    "        loss = criterion(pred, y.cuda())\n",
    "        if (epoch + 1) % 1000 == 0:\n",
    "            print('Epoch:', '%04d' % (epoch + 1), 'cost =', '{:.6f}'.format(loss))\n",
    "        optimizer.zero_grad()\n",
    "        loss.backward()\n",
    "        optimizer.step()"
   ]
  },
  {
   "cell_type": "code",
   "execution_count": 10,
   "metadata": {},
   "outputs": [
    {
     "name": "stdout",
     "output_type": "stream",
     "text": [
      "GitHub Actions makes it easy to automate all your software workflows from continuous integration and delivery to issue triage and more\n",
      "['Actions', 'makes', 'it', 'easy', 'to', 'automate', 'all', 'your', 'software', 'workflows', 'from', 'continuous', 'integration', 'and', 'and', 'to', 'issue', 'triage', 'and', 'and']\n"
     ]
    }
   ],
   "source": [
    "model.eval()\n",
    "# Pred\n",
    "predict = model(input_batch.cuda()).data.max(1, keepdim=True)[1]\n",
    "print(sentence)\n",
    "print([idx2word[n.item()] for n in predict.squeeze()])"
   ]
  },
  {
   "cell_type": "code",
   "execution_count": null,
   "metadata": {},
   "outputs": [],
   "source": []
  }
 ],
 "metadata": {
  "kernelspec": {
   "display_name": "Python 3",
   "language": "python",
   "name": "python3"
  },
  "language_info": {
   "codemirror_mode": {
    "name": "ipython",
    "version": 3
   },
   "file_extension": ".py",
   "mimetype": "text/x-python",
   "name": "python",
   "nbconvert_exporter": "python",
   "pygments_lexer": "ipython3",
   "version": "3.6.5"
  }
 },
 "nbformat": 4,
 "nbformat_minor": 4
}
