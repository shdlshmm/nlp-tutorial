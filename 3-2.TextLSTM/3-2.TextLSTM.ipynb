{
 "cells": [
  {
   "cell_type": "code",
   "execution_count": 1,
   "metadata": {},
   "outputs": [],
   "source": [
    "import torch\n",
    "import torch.nn as nn\n",
    "import numpy as np\n",
    "import torch.utils.data as Data\n",
    "import torch.optim as optim"
   ]
  },
  {
   "cell_type": "code",
   "execution_count": 2,
   "metadata": {},
   "outputs": [],
   "source": [
    "char_arr = [c for c in 'abcdefghijklmnopqrstuvwxyz'] # ['a', 'b', 'c',...]\n",
    "word2idx = {n: i for i, n in enumerate(char_arr)}\n",
    "idx2word = {i: w for i, w in enumerate(char_arr)}\n",
    "n_class = len(word2idx) # number of class(=number of vocab)\n",
    "\n",
    "seq_data = ['make', 'need', 'coal', 'word', 'love', 'hate', 'live', 'home', 'hash', 'star']\n",
    "\n",
    "# TextLSTM Parameters\n",
    "n_step = len(seq_data[0]) - 1 # (=3)\n",
    "n_hidden = 128\n"
   ]
  },
  {
   "cell_type": "code",
   "execution_count": 3,
   "metadata": {},
   "outputs": [],
   "source": [
    "def make_data(seq_data):\n",
    "    input_batch, target_batch = [], []\n",
    "\n",
    "    for seq in seq_data:\n",
    "        input = [word2idx[n] for n in seq[:-1]] # 'm', 'a' , 'k' is input\n",
    "        target = word2idx[seq[-1]] # 'e' is target\n",
    "        input_batch.append(np.eye(n_class)[input])\n",
    "        target_batch.append(target)\n",
    "\n",
    "    return torch.Tensor(input_batch), torch.LongTensor(target_batch)\n",
    "input_batch, target_batch = make_data(seq_data)\n",
    "dataset = Data.TensorDataset(input_batch, target_batch)\n",
    "loader = Data.DataLoader(dataset, 3, True)"
   ]
  },
  {
   "cell_type": "code",
   "execution_count": 4,
   "metadata": {},
   "outputs": [],
   "source": [
    "class TextLSTM(nn.Module):\n",
    "    def __init__(self):\n",
    "        super(TextLSTM,self).__init__()\n",
    "        self.lstm = nn.LSTM(input_size=n_class,hidden_size=n_hidden,num_layers=1,batch_first=True)\n",
    "        self.fc = nn.Linear(n_hidden,n_class)\n",
    "    def forward(self,X):\n",
    "        batch_size =X.shape[0]\n",
    "        hidden_state = torch.zeros(1,batch_size , n_hidden).cuda()   # [num_layers(=1) * num_directions(=1), batch_size, n_hidden]\n",
    "        cell_state = torch.zeros(1,batch_size , n_hidden).cuda()    # [num_layers(=1) * num_directions(=1), batch_size, n_hidden]\n",
    "        output, (_, _)  = self.lstm(X,(hidden_state, cell_state))\n",
    "        return self.fc(output[:,-1,:])"
   ]
  },
  {
   "cell_type": "code",
   "execution_count": 5,
   "metadata": {},
   "outputs": [],
   "source": [
    "model = TextLSTM().cuda()\n",
    "optimizer = optim.Adam(model.parameters(),lr=1e-3)\n",
    "criterion = nn.CrossEntropyLoss()"
   ]
  },
  {
   "cell_type": "code",
   "execution_count": 6,
   "metadata": {},
   "outputs": [
    {
     "name": "stdout",
     "output_type": "stream",
     "text": [
      "Epoch: 1000 cost = 0.000109\n",
      "Epoch: 1000 cost = 0.000250\n",
      "Epoch: 1000 cost = 0.000296\n",
      "Epoch: 1000 cost = 0.000011\n",
      "Epoch: 2000 cost = 0.000024\n",
      "Epoch: 2000 cost = 0.000033\n",
      "Epoch: 2000 cost = 0.000004\n",
      "Epoch: 2000 cost = 0.000000\n",
      "Epoch: 3000 cost = 0.000003\n",
      "Epoch: 3000 cost = 0.000002\n",
      "Epoch: 3000 cost = 0.000001\n",
      "Epoch: 3000 cost = 0.000002\n",
      "Epoch: 4000 cost = 0.000000\n",
      "Epoch: 4000 cost = 0.000000\n",
      "Epoch: 4000 cost = 0.000000\n",
      "Epoch: 4000 cost = 0.000000\n",
      "Epoch: 5000 cost = 0.000000\n",
      "Epoch: 5000 cost = 0.000000\n",
      "Epoch: 5000 cost = 0.000000\n",
      "Epoch: 5000 cost = 0.000000\n"
     ]
    }
   ],
   "source": [
    "for epoch in range(5000):\n",
    "    for x,y in loader:\n",
    "        pred = model(x.cuda())\n",
    "        loss = criterion(pred,y.cuda())\n",
    "        optimizer.zero_grad()\n",
    "        loss.backward()\n",
    "        optimizer.step()\n",
    "        if (epoch+1) %1000 ==0:\n",
    "           print('Epoch:', '%04d' % (epoch + 1), 'cost =', '{:.6f}'.format(loss),end='\\r\\n')"
   ]
  },
  {
   "cell_type": "code",
   "execution_count": 7,
   "metadata": {},
   "outputs": [
    {
     "name": "stdout",
     "output_type": "stream",
     "text": [
      "['mak', 'nee', 'coa', 'wor', 'lov', 'hat', 'liv', 'hom', 'has', 'sta'] -> ['e', 'd', 'l', 'd', 'e', 'e', 'e', 'e', 'h', 'r']\n"
     ]
    }
   ],
   "source": [
    "inputs = [sen[:3] for sen in seq_data]\n",
    "predict = model(input_batch.cuda()).data.max(1, keepdim=True)[1]\n",
    "print(inputs, '->', [idx2word[n.item()] for n in predict.cpu().data.squeeze()])"
   ]
  },
  {
   "cell_type": "code",
   "execution_count": null,
   "metadata": {},
   "outputs": [],
   "source": []
  }
 ],
 "metadata": {
  "kernelspec": {
   "display_name": "Python 3",
   "language": "python",
   "name": "python3"
  },
  "language_info": {
   "codemirror_mode": {
    "name": "ipython",
    "version": 3
   },
   "file_extension": ".py",
   "mimetype": "text/x-python",
   "name": "python",
   "nbconvert_exporter": "python",
   "pygments_lexer": "ipython3",
   "version": "3.6.5"
  }
 },
 "nbformat": 4,
 "nbformat_minor": 4
}
