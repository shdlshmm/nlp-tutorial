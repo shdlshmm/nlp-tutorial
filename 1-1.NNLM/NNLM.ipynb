{
 "cells": [
  {
   "cell_type": "code",
   "execution_count": 1,
   "metadata": {},
   "outputs": [],
   "source": [
    "import torch\n",
    "import torch.nn as nn\n",
    "import torch.optim as optimizer\n",
    "import torch.utils.data as Data"
   ]
  },
  {
   "cell_type": "code",
   "execution_count": 5,
   "metadata": {},
   "outputs": [],
   "source": [
    "dtype = torch.FloatTensor\n",
    "sentences = ['i like cat', 'i love coffee', 'i hate milk']\n",
    "sentences_list = \" \".join(sentences).split() # ['i', 'like', 'cat', 'i', 'love'. 'coffee',...]\n",
    "vocab = list(set(sentences_list))\n",
    "word2idx = {w:i for i, w in enumerate(vocab)}\n",
    "idx2word = {i:w for i, w in enumerate(vocab)}\n",
    "V = len(vocab)"
   ]
  },
  {
   "cell_type": "code",
   "execution_count": 6,
   "metadata": {},
   "outputs": [],
   "source": [
    "def make_data(sentences):\n",
    "    input_data = []\n",
    "    target_data = []\n",
    "    for sen in sentences:\n",
    "        sen = sen.split() # ['i', 'like', 'cat']\n",
    "        input_tmp = [word2idx[w] for w in sen[:-1]]\n",
    "        target_tmp = word2idx[sen[-1]]\n",
    "        input_data.append(input_tmp)\n",
    "        target_data.append(target_tmp)\n",
    "    return input_data, target_data"
   ]
  },
  {
   "cell_type": "code",
   "execution_count": 8,
   "metadata": {},
   "outputs": [],
   "source": [
    "input_data, target_data = make_data(sentences)\n",
    "input_data, target_data = torch.LongTensor(input_data), torch.LongTensor(target_data)"
   ]
  },
  {
   "cell_type": "code",
   "execution_count": 10,
   "metadata": {},
   "outputs": [],
   "source": [
    "dataset = Data.TensorDataset(input_data, target_data)\n",
    "loader = Data.DataLoader(dataset, 2, True)"
   ]
  },
  {
   "cell_type": "code",
   "execution_count": 11,
   "metadata": {},
   "outputs": [],
   "source": [
    "m = 2\n",
    "n_step = 2\n",
    "n_hidden = 10"
   ]
  },
  {
   "cell_type": "code",
   "execution_count": 22,
   "metadata": {},
   "outputs": [],
   "source": [
    "class NNLM(nn.Module):\n",
    "    def __init__(self):\n",
    "        super(NNLM, self).__init__()\n",
    "        self.C = nn.Embedding(V, m)\n",
    "        self.H = nn.Parameter(torch.randn(n_step * m, n_hidden).type(dtype))\n",
    "        self.d = nn.Parameter(torch.randn(n_hidden).type(dtype))\n",
    "        self.b = nn.Parameter(torch.randn(V).type(dtype))\n",
    "        self.W = nn.Parameter(torch.randn(n_step * m, V).type(dtype))\n",
    "        self.U = nn.Parameter(torch.randn(n_hidden, V).type(dtype))\n",
    "\n",
    "    def forward(self, X):\n",
    "        '''\n",
    "        X : [batch_size, n_step]\n",
    "        '''\n",
    "        X = self.C(X) # [batch_size, n_step, m]\n",
    "        X = X.view(-1, n_step * m) # [batch_szie, n_step * m]\n",
    "        hidden_out = torch.tanh(self.d + torch.mm(X, self.H)) # [batch_size, n_hidden]\n",
    "        output = self.b  + torch.mm(X, self.W) + torch.mm(hidden_out, self.U)\n",
    "        return output"
   ]
  },
  {
   "cell_type": "code",
   "execution_count": 23,
   "metadata": {},
   "outputs": [
    {
     "name": "stdout",
     "output_type": "stream",
     "text": [
      "1000 0.011928769759833813\n",
      "1000 0.012376765720546246\n",
      "2000 0.0019762972369790077\n",
      "2000 0.0038528037257492542\n",
      "3000 0.0007922946242615581\n",
      "3000 0.0007932615117169917\n",
      "4000 0.0001987007271964103\n",
      "4000 0.000395815703086555\n",
      "5000 6.913888501003385e-05\n",
      "5000 0.00013207517622504383\n",
      "['cat', 'coffee', 'milk']\n"
     ]
    }
   ],
   "source": [
    "model = NNLM()\n",
    "optim = optimizer.Adam(model.parameters(), lr=1e-3)\n",
    "criterion = nn.CrossEntropyLoss()\n",
    "\n",
    "for epoch in range(5000):\n",
    "    for batch_x, batch_y in loader:\n",
    "        pred = model(batch_x)\n",
    "        loss = criterion(pred, batch_y)\n",
    "        if (epoch + 1) % 1000 == 0:\n",
    "            print(epoch + 1, loss.item())\n",
    "        optim.zero_grad()\n",
    "        loss.backward()\n",
    "        optim.step()\n",
    "\n",
    "# Pred\n",
    "pred = model(input_data).max(1, keepdim=True)[1]\n",
    "print([idx2word[idx.item()] for idx in pred.squeeze()])"
   ]
  },
  {
   "cell_type": "code",
   "execution_count": null,
   "metadata": {},
   "outputs": [],
   "source": []
  },
  {
   "cell_type": "code",
   "execution_count": null,
   "metadata": {},
   "outputs": [],
   "source": []
  },
  {
   "cell_type": "code",
   "execution_count": null,
   "metadata": {},
   "outputs": [],
   "source": []
  }
 ],
 "metadata": {
  "kernelspec": {
   "display_name": "Python 3",
   "language": "python",
   "name": "python3"
  },
  "language_info": {
   "codemirror_mode": {
    "name": "ipython",
    "version": 3
   },
   "file_extension": ".py",
   "mimetype": "text/x-python",
   "name": "python",
   "nbconvert_exporter": "python",
   "pygments_lexer": "ipython3",
   "version": "3.6.5"
  }
 },
 "nbformat": 4,
 "nbformat_minor": 4
}
