{
 "cells": [
  {
   "cell_type": "code",
   "execution_count": 1,
   "metadata": {},
   "outputs": [],
   "source": [
    "import torch\n",
    "import torch.nn as nn\n",
    "import numpy as np\n",
    "import torch.utils.data as Data\n",
    "import torch.optim as optim"
   ]
  },
  {
   "cell_type": "code",
   "execution_count": 2,
   "metadata": {},
   "outputs": [],
   "source": [
    "sentences = [\"i like dog\", \"i love coffee\", \"i hate milk\"]\n",
    "word_list = ' '.join(sentences).split()\n",
    "vocab = list(set(word_list))\n",
    "vocab_size = len(vocab)\n",
    "word2idx = {w:i for i,w in enumerate(vocab)}\n",
    "idx2word = {i:w for i,w in enumerate(vocab)}"
   ]
  },
  {
   "cell_type": "code",
   "execution_count": 3,
   "metadata": {},
   "outputs": [],
   "source": [
    "def make_data(sentences):\n",
    "    inputs=[]\n",
    "    outputs=[]\n",
    "    for sentence in sentences:\n",
    "        words = sentence.split()\n",
    "        idxs = [word2idx[word] for word in words[:-1]]\n",
    "        inputs.append([np.eye(vocab_size)[idx] for idx in idxs])\n",
    "        outputs.append(word2idx[words[-1]])\n",
    "    return inputs,outputs"
   ]
  },
  {
   "cell_type": "code",
   "execution_count": 4,
   "metadata": {},
   "outputs": [],
   "source": [
    "# TextRNN Parameter\n",
    "batch_size = 2\n",
    "n_step = 2 # number of cells(= number of Step)\n",
    "n_hidden = 5 # number of hidden units in one cell"
   ]
  },
  {
   "cell_type": "code",
   "execution_count": 5,
   "metadata": {},
   "outputs": [],
   "source": [
    "class TextRNN(nn.Module):\n",
    "    def __init__(self):\n",
    "        super(TextRNN,self).__init__()\n",
    "        self.rnn = nn.RNN(input_size=vocab_size,hidden_size=n_hidden,num_layers=n_step,batch_first=True)\n",
    "        self.fc = nn.Linear(n_hidden,vocab_size)\n",
    "    def forward(self,X,hidden):\n",
    "        output, hn = self.rnn(X,hidden)\n",
    "        return self.fc(output[:,-1,:])"
   ]
  },
  {
   "cell_type": "code",
   "execution_count": 6,
   "metadata": {},
   "outputs": [],
   "source": [
    "inputs,outputs = make_data(sentences)\n",
    "inputs,outputs = torch.FloatTensor(inputs),torch.LongTensor(outputs)\n",
    "dataset = Data.TensorDataset(inputs,outputs)\n",
    "loader = Data.DataLoader(dataset,batch_size,True)"
   ]
  },
  {
   "cell_type": "code",
   "execution_count": 7,
   "metadata": {},
   "outputs": [],
   "source": [
    "model = TextRNN().cuda()\n",
    "optimizer = optim.Adam(model.parameters(),lr=1e-3)\n",
    "criterion = nn.CrossEntropyLoss()\n",
    "\n"
   ]
  },
  {
   "cell_type": "code",
   "execution_count": 8,
   "metadata": {},
   "outputs": [
    {
     "name": "stdout",
     "output_type": "stream",
     "text": [
      "Epoch: 1000 cost = 0.034593\n",
      "Epoch: 1000 cost = 0.057116\n",
      "Epoch: 2000 cost = 0.008908\n",
      "Epoch: 2000 cost = 0.007036\n",
      "Epoch: 3000 cost = 0.002360\n",
      "Epoch: 3000 cost = 0.003078\n",
      "Epoch: 4000 cost = 0.000920\n",
      "Epoch: 4000 cost = 0.000913\n",
      "Epoch: 5000 cost = 0.000365\n",
      "Epoch: 5000 cost = 0.000281\n"
     ]
    }
   ],
   "source": [
    "for epoch in range(5000):\n",
    "    for x,y in loader:\n",
    "        hidden = torch.zeros(n_step,x.shape[0],  n_hidden) # h0\n",
    "        pred = model(x.cuda(),hidden.cuda())\n",
    "        loss = criterion(pred,y.cuda())\n",
    "        optimizer.zero_grad()\n",
    "        loss.backward()\n",
    "        optimizer.step()\n",
    "        if (epoch+1) %1000 ==0:\n",
    "           print('Epoch:', '%04d' % (epoch + 1), 'cost =', '{:.6f}'.format(loss),end='\\r\\n')"
   ]
  },
  {
   "cell_type": "code",
   "execution_count": 18,
   "metadata": {},
   "outputs": [
    {
     "name": "stdout",
     "output_type": "stream",
     "text": [
      "[['i', 'like'], ['i', 'love'], ['i', 'hate']] -> ['dog', 'coffee', 'milk']\n"
     ]
    }
   ],
   "source": [
    "model.eval()\n",
    "input = [sen.split()[:2] for sen in sentences]\n",
    "# Predict\n",
    "hidden = torch.zeros(n_step, len(input), n_hidden)\n",
    "predict = model(inputs.cuda(),hidden.cuda() ).cpu().data.max(1, keepdim=True)[1]\n",
    "\n",
    "print([sen.split()[:2] for sen in sentences], '->', [idx2word[n.item()] for n in predict.squeeze()])"
   ]
  },
  {
   "cell_type": "code",
   "execution_count": null,
   "metadata": {},
   "outputs": [],
   "source": []
  }
 ],
 "metadata": {
  "kernelspec": {
   "display_name": "Python 3",
   "language": "python",
   "name": "python3"
  },
  "language_info": {
   "codemirror_mode": {
    "name": "ipython",
    "version": 3
   },
   "file_extension": ".py",
   "mimetype": "text/x-python",
   "name": "python",
   "nbconvert_exporter": "python",
   "pygments_lexer": "ipython3",
   "version": "3.6.5"
  }
 },
 "nbformat": 4,
 "nbformat_minor": 4
}
