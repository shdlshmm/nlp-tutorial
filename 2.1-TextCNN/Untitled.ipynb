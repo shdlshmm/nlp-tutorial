{
 "cells": [
  {
   "cell_type": "code",
   "execution_count": 1,
   "metadata": {},
   "outputs": [],
   "source": [
    "import torch\n",
    "import torch.nn as nn\n",
    "import numpy as np\n",
    "import torch.utils.data as Data\n",
    "import torch.nn.functional as F\n",
    "dtype = torch.FloatTensor"
   ]
  },
  {
   "cell_type": "code",
   "execution_count": 2,
   "metadata": {},
   "outputs": [],
   "source": [
    "sentences = [\"i love you\", \"he loves me\", \"she likes baseball\", \"i hate you\", \"sorry for that\", \"this is awful\"]\n",
    "labels = [1, 1, 1, 0, 0, 0]  # 1 is good, 0 is not good.\n",
    "\n",
    "embedding_size = 2\n",
    "sequence_len = len(sentences[0])\n",
    "num_class = len(set(labels))\n",
    "batch_size = 3\n",
    "vocab = ' '.join(sentences).split()\n",
    "vocab = list(set(vocab))\n",
    "vocab_size = len(vocab)\n",
    "word2idx = {w:i for i,w in enumerate(vocab)}\n"
   ]
  },
  {
   "cell_type": "code",
   "execution_count": 3,
   "metadata": {},
   "outputs": [],
   "source": [
    "def make_data(sentences,labels):\n",
    "    inputs = []\n",
    "    for sentence in sentences:\n",
    "        inputs.append([word2idx[w] for w in sentence.split()])\n",
    "    targets = []\n",
    "    for label in labels:\n",
    "        targets.append(label)\n",
    "    return inputs,targets\n",
    "input_batch, target_batch = make_data(sentences, labels)\n",
    "input_batch, target_batch = torch.LongTensor(input_batch),torch.LongTensor(target_batch)\n",
    "dataset = Data.TensorDataset(input_batch, target_batch)\n",
    "loader = Data.DataLoader(dataset, batch_size, True)\n",
    "    "
   ]
  },
  {
   "cell_type": "code",
   "execution_count": 4,
   "metadata": {},
   "outputs": [
    {
     "name": "stdout",
     "output_type": "stream",
     "text": [
      "torch.Size([6, 3])\n"
     ]
    }
   ],
   "source": [
    "print(input_batch.size())"
   ]
  },
  {
   "cell_type": "code",
   "execution_count": 5,
   "metadata": {},
   "outputs": [],
   "source": [
    "class TextCNN(nn.Module):\n",
    "    def __init__(self):\n",
    "        super(TextCNN,self).__init__()\n",
    "        self.W = nn.Embedding(vocab_size,embedding_size)\n",
    "        output_channel = 3\n",
    "        self.conv = nn.Sequential(nn.Conv2d(1,output_channel,(2,embedding_size)),\n",
    "                                 nn.ReLU(),\n",
    "                                 nn.MaxPool2d((2,1))\n",
    "                                 )\n",
    "        self.fc = nn.Linear(output_channel,num_class)\n",
    "    def forward(self,X):\n",
    "        '''\n",
    "        X = [batch_size,sequence_length]\n",
    "        '''\n",
    "        batch_size = X.shape[0]\n",
    "        embedding_X = self.W(X) #[batch_size,sequence_length,embedding_size]\n",
    "        embedding_X = embedding_X.unsqueeze(1) #[batch_size,1,sequence_length,embedding_size]\n",
    "        conv = self.conv(embedding_X) #[batch_size,output_channel,1,1]\n",
    "        conv = conv.view(batch_size,-1)\n",
    "        output = self.fc(conv)\n",
    "        return output\n",
    "        "
   ]
  },
  {
   "cell_type": "code",
   "execution_count": 6,
   "metadata": {},
   "outputs": [
    {
     "name": "stdout",
     "output_type": "stream",
     "text": [
      "Epoch: 1000 loss = 0.005023\n",
      "Epoch: 1000 loss = 0.002371\n",
      "Epoch: 2000 loss = 0.000423\n",
      "Epoch: 2000 loss = 0.000376\n",
      "Epoch: 3000 loss = 0.000051\n",
      "Epoch: 3000 loss = 0.000130\n",
      "Epoch: 4000 loss = 0.000012\n",
      "Epoch: 4000 loss = 0.000038\n",
      "Epoch: 5000 loss = 0.000008\n",
      "Epoch: 5000 loss = 0.000007\n"
     ]
    }
   ],
   "source": [
    "model = TextCNN().cuda()\n",
    "optimizer = torch.optim.Adam(model.parameters(),lr = 1e-3)\n",
    "criterion  = nn.CrossEntropyLoss()\n",
    "for epoch in range(5000):\n",
    "    for batch_x,batch_y in loader:\n",
    "        pred = model(batch_x.cuda())\n",
    "        loss = criterion(pred,batch_y.cuda())\n",
    "        if (epoch + 1) % 1000 == 0:\n",
    "            print('Epoch:', '%04d' % (epoch + 1), 'loss =', '{:.6f}'.format(loss))\n",
    "        optimizer.zero_grad()\n",
    "        loss.backward()\n",
    "        optimizer.step()"
   ]
  },
  {
   "cell_type": "code",
   "execution_count": 17,
   "metadata": {},
   "outputs": [
    {
     "name": "stdout",
     "output_type": "stream",
     "text": [
      "likes is i is Bad Mean...\n"
     ]
    }
   ],
   "source": [
    "# Test\n",
    "test_text = 'likes is i'\n",
    "tests = [[word2idx[n] for n in test_text.split()]]\n",
    "test_batch = torch.LongTensor(tests).cuda()\n",
    "# Predict\n",
    "model = model.eval()\n",
    "predict = model(test_batch).data.max(1, keepdim=True)[1]\n",
    "if predict[0][0] == 0:\n",
    "    print(test_text,\"is Bad Mean...\")\n",
    "else:\n",
    "    print(test_text,\"is Good Mean!!\")"
   ]
  },
  {
   "cell_type": "code",
   "execution_count": null,
   "metadata": {},
   "outputs": [],
   "source": []
  }
 ],
 "metadata": {
  "kernelspec": {
   "display_name": "Python 3",
   "language": "python",
   "name": "python3"
  },
  "language_info": {
   "codemirror_mode": {
    "name": "ipython",
    "version": 3
   },
   "file_extension": ".py",
   "mimetype": "text/x-python",
   "name": "python",
   "nbconvert_exporter": "python",
   "pygments_lexer": "ipython3",
   "version": "3.6.5"
  }
 },
 "nbformat": 4,
 "nbformat_minor": 4
}
